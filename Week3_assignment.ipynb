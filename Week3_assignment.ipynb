{
  "nbformat": 4,
  "nbformat_minor": 0,
  "metadata": {
    "colab": {
      "provenance": [],
      "authorship_tag": "ABX9TyOdThgrpBVN/1mEsJ320/fi",
      "include_colab_link": true
    },
    "kernelspec": {
      "name": "python3",
      "display_name": "Python 3"
    },
    "language_info": {
      "name": "python"
    }
  },
  "cells": [
    {
      "cell_type": "markdown",
      "metadata": {
        "id": "view-in-github",
        "colab_type": "text"
      },
      "source": [
        "<a href=\"https://colab.research.google.com/github/avisruti/AI-ML/blob/main/Week3_assignment.ipynb\" target=\"_parent\"><img src=\"https://colab.research.google.com/assets/colab-badge.svg\" alt=\"Open In Colab\"/></a>"
      ]
    },
    {
      "cell_type": "code",
      "execution_count": 7,
      "metadata": {
        "id": "rOlOLGDhPGNZ"
      },
      "outputs": [],
      "source": [
        "import numpy as np\n",
        "import matplotlib.pyplot as plt\n"
      ]
    },
    {
      "cell_type": "markdown",
      "source": [
        "**h(x) =w0+w1x1+w2x2**"
      ],
      "metadata": {
        "id": "q3uRT5upPQKD"
      }
    },
    {
      "cell_type": "code",
      "source": [
        "def sum_w0(arr):\n",
        "     s0=0\n",
        "     for i in range(len(arr)):\n",
        "      s0+= arr[i][3] -arr[i][2]\n",
        "\n",
        "     return s0\n",
        "\n",
        "def sum_w1(arr):\n",
        "     s1=0\n",
        "     for i in range(len(arr)):\n",
        "      s1+= (arr[i][3] -arr[i][2])*arr[i][0]\n",
        "\n",
        "     return s1\n",
        "\n",
        "def sum_w2(arr):\n",
        "     s2=0\n",
        "     for i in range(len(arr)):\n",
        "      s2+= (arr[i][3] -arr[i][2])*arr[i][1]\n",
        "\n",
        "     return s2\n",
        "\n",
        "w0=0\n",
        "w1=1\n",
        "w2=1\n",
        "alpha=0.0002"
      ],
      "metadata": {
        "id": "duYMq3rkPYy2"
      },
      "execution_count": 4,
      "outputs": []
    },
    {
      "cell_type": "code",
      "source": [
        "data=[[60,22,140],[67,24,159],[71,15,192],[75,20,200],[78,16,212]]\n",
        "print('Values for x1,x2 and y are :',data)\n",
        "d1=np.array(data) # change list to an array\n",
        "s=[] #define empty list\n",
        "for i in range(len(d1)):\n",
        "  #print(d1[i][0])\n",
        " a = w0+w1*d1[i][0] +w2 *d1[i][1]\n",
        " s.append([a])\n",
        " #print(s)\n",
        "print('h(x) values for initial case :',s)\n",
        "y0=np.append(d1,s,axis=1)\n",
        "print('Full data set is ',y0)\n",
        "print('length ', len(y0))\n",
        "\n",
        "w01= w0-((alpha/len(y0))*sum_w0(y0))\n",
        "w11= w1-((alpha/len(y0))*sum_w1(y0))\n",
        "w21= w2-((alpha/len(y0))*sum_w2(y0))\n",
        "print(\"After first iteration\")\n",
        "print(w01)\n",
        "print(w11)\n",
        "print(w21)\n",
        "\n",
        "w02= w01-((alpha/len(y0))*sum_w0(y0))\n",
        "w12= w11-((alpha/len(y0))*sum_w1(y0))\n",
        "w22= w21-((alpha/len(y0))*sum_w2(y0))\n",
        "print(\"After 2nd iteration\")\n",
        "print(w02)\n",
        "print(w12)\n",
        "print(w22)"
      ],
      "metadata": {
        "colab": {
          "base_uri": "https://localhost:8080/"
        },
        "id": "bwDImVoxP4Jh",
        "outputId": "12a6c629-8499-4d6a-8564-9c21203c1069"
      },
      "execution_count": 6,
      "outputs": [
        {
          "output_type": "stream",
          "name": "stdout",
          "text": [
            "Values for x1,x2 and y are : [[60, 22, 140], [67, 24, 159], [71, 15, 192], [75, 20, 200], [78, 16, 212]]\n",
            "h(x) values for initial case : [[82], [91], [86], [95], [94]]\n",
            "Full data set is  [[ 60  22 140  82]\n",
            " [ 67  24 159  91]\n",
            " [ 71  15 192  86]\n",
            " [ 75  20 200  95]\n",
            " [ 78  16 212  94]]\n",
            "length  5\n",
            "After first iteration\n",
            "0.0182\n",
            "2.3056400000000004\n",
            "1.33944\n",
            "After 2nd iteration\n",
            "0.0364\n",
            "3.6112800000000007\n",
            "1.67888\n"
          ]
        }
      ]
    },
    {
      "cell_type": "code",
      "source": [
        "fig =plt.figure()\n",
        "#ax= plt.axes(projection='3d')\n",
        "x=[]\n",
        "y=[]\n",
        "z=[]\n",
        "for i in range(len(y0)):\n",
        "  xax=y0[i][0]\n",
        "  yax=y0[i][1]\n",
        "  zax=y0[i][2]\n",
        "  x.append(xax)\n",
        "  y.append(yax)\n",
        "  z.append(zax)\n",
        "\n",
        "plt.plot(x,y,z)\n",
        "plt.show()\n",
        "#ax.plot3D(x,y,z,'green')\n",
        "\n",
        "ax.set_title('Linear Regression')\n",
        "plt.show()"
      ],
      "metadata": {
        "colab": {
          "base_uri": "https://localhost:8080/",
          "height": 430
        },
        "id": "6o357ghQebS7",
        "outputId": "00d73041-50f8-4b61-b981-66a6017f541a"
      },
      "execution_count": 16,
      "outputs": [
        {
          "output_type": "display_data",
          "data": {
            "text/plain": [
              "<Figure size 640x480 with 1 Axes>"
            ],
            "image/png": "[encoded data removed]"
          },
          "metadata": {}
        }
      ]
    }
  ]
}